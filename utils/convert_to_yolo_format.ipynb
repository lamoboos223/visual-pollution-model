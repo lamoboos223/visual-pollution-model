{
 "cells": [
  {
   "cell_type": "code",
   "execution_count": 1,
   "metadata": {},
   "outputs": [
    {
     "name": "stdout",
     "output_type": "stream",
     "text": [
      "Requirement already satisfied: pandas in c:\\users\\administrator\\anaconda3\\lib\\site-packages (1.4.4)\n",
      "Requirement already satisfied: python-dateutil>=2.8.1 in c:\\users\\administrator\\anaconda3\\lib\\site-packages (from pandas) (2.8.2)\n",
      "Requirement already satisfied: pytz>=2020.1 in c:\\users\\administrator\\anaconda3\\lib\\site-packages (from pandas) (2022.1)\n",
      "Requirement already satisfied: numpy>=1.18.5 in c:\\users\\administrator\\anaconda3\\lib\\site-packages (from pandas) (1.21.5)\n",
      "Requirement already satisfied: six>=1.5 in c:\\users\\administrator\\anaconda3\\lib\\site-packages (from python-dateutil>=2.8.1->pandas) (1.16.0)\n",
      "Requirement already satisfied: pybboxes in c:\\users\\administrator\\anaconda3\\lib\\site-packages (0.1.6)\n",
      "Requirement already satisfied: numpy in c:\\users\\administrator\\anaconda3\\lib\\site-packages (from pybboxes) (1.21.5)\n"
     ]
    }
   ],
   "source": [
    "!pip install pandas\n",
    "!pip install pybboxes"
   ]
  },
  {
   "cell_type": "code",
   "execution_count": null,
   "metadata": {},
   "outputs": [],
   "source": [
    "!wget https://he-public-data.s3.ap-southeast-1.amazonaws.com/dataset.zip\n",
    "!unzip dataset\n",
    "!mv dataset smartathone-dataset"
   ]
  },
  {
   "cell_type": "code",
   "execution_count": 40,
   "metadata": {},
   "outputs": [],
   "source": [
    "import pybboxes as pbx\n",
    "import pandas as pd\n",
    "import shutil\n",
    "import os\n",
    "import filecmp"
   ]
  },
  {
   "cell_type": "code",
   "execution_count": 66,
   "metadata": {},
   "outputs": [],
   "source": [
    "new_dataset_path = \"../datasets/visual-pollution\"\n",
    "old_dataset_path = \"../smartathone-dataset\""
   ]
  },
  {
   "cell_type": "code",
   "execution_count": 67,
   "metadata": {},
   "outputs": [],
   "source": [
    "def seprate_train_images_from_test_image(data_type='train'):\n",
    "    images=f'{old_dataset_path}/images/'\n",
    "\n",
    "    images_paths=pd.read_csv(f'{old_dataset_path}/{data_type}.csv')\n",
    "\n",
    "    os.makedirs(f'../datasets/visual-pollution/{data_type}/images')\n",
    "    test_data= pd.DataFrame()\n",
    "    for filename in os.listdir(images):\n",
    "        if(images_paths[\"image_path\"].eq(filename).any()) == True:\n",
    "            new_path = new_dataset_path+'/'+data_type+'/images/'+filename\n",
    "#             shutil.move(f'{old_dataset_path}/images/{filename}',new_path)\n",
    "            shutil.copy(f'{old_dataset_path}/images/{filename}',new_path)"
   ]
  },
  {
   "cell_type": "code",
   "execution_count": 55,
   "metadata": {},
   "outputs": [],
   "source": [
    "seprate_train_images_from_test_image(data_type='train')\n",
    "shutil.copy(f'{old_dataset_path}/train.csv',new_dataset_path+\"/train\")"
   ]
  },
  {
   "cell_type": "code",
   "execution_count": 56,
   "metadata": {},
   "outputs": [],
   "source": [
    "seprate_train_images_from_test_image(data_type='test')"
   ]
  },
  {
   "cell_type": "code",
   "execution_count": 68,
   "metadata": {},
   "outputs": [
    {
     "data": {
      "text/html": [
       "<div>\n",
       "<style scoped>\n",
       "    .dataframe tbody tr th:only-of-type {\n",
       "        vertical-align: middle;\n",
       "    }\n",
       "\n",
       "    .dataframe tbody tr th {\n",
       "        vertical-align: top;\n",
       "    }\n",
       "\n",
       "    .dataframe thead th {\n",
       "        text-align: right;\n",
       "    }\n",
       "</style>\n",
       "<table border=\"1\" class=\"dataframe\">\n",
       "  <thead>\n",
       "    <tr style=\"text-align: right;\">\n",
       "      <th></th>\n",
       "      <th>class</th>\n",
       "      <th>image_path</th>\n",
       "      <th>name</th>\n",
       "      <th>xmax</th>\n",
       "      <th>xmin</th>\n",
       "      <th>ymax</th>\n",
       "      <th>ymin</th>\n",
       "    </tr>\n",
       "  </thead>\n",
       "  <tbody>\n",
       "    <tr>\n",
       "      <th>0</th>\n",
       "      <td>3.0</td>\n",
       "      <td>4a48c42c9579ec0399e6c5a3e825e765.jpg</td>\n",
       "      <td>GARBAGE</td>\n",
       "      <td>797.0</td>\n",
       "      <td>701.0</td>\n",
       "      <td>262.0</td>\n",
       "      <td>211.0</td>\n",
       "    </tr>\n",
       "    <tr>\n",
       "      <th>1</th>\n",
       "      <td>3.0</td>\n",
       "      <td>4a48c42c9579ec0399e6c5a3e825e765.jpg</td>\n",
       "      <td>GARBAGE</td>\n",
       "      <td>932.0</td>\n",
       "      <td>786.0</td>\n",
       "      <td>329.0</td>\n",
       "      <td>238.0</td>\n",
       "    </tr>\n",
       "    <tr>\n",
       "      <th>2</th>\n",
       "      <td>3.0</td>\n",
       "      <td>4a48c42c9579ec0399e6c5a3e825e765.jpg</td>\n",
       "      <td>GARBAGE</td>\n",
       "      <td>736.0</td>\n",
       "      <td>657.0</td>\n",
       "      <td>275.0</td>\n",
       "      <td>229.0</td>\n",
       "    </tr>\n",
       "    <tr>\n",
       "      <th>3</th>\n",
       "      <td>7.0</td>\n",
       "      <td>ea906a663da6321bcef78be4b7d1afff.jpg</td>\n",
       "      <td>BAD_BILLBOARD</td>\n",
       "      <td>986.0</td>\n",
       "      <td>786.0</td>\n",
       "      <td>136.0</td>\n",
       "      <td>0.0</td>\n",
       "    </tr>\n",
       "    <tr>\n",
       "      <th>4</th>\n",
       "      <td>8.0</td>\n",
       "      <td>1c7d48005a12d1b19261b8e71df7cafe.jpg</td>\n",
       "      <td>SAND_ON_ROAD</td>\n",
       "      <td>667.0</td>\n",
       "      <td>549.0</td>\n",
       "      <td>228.0</td>\n",
       "      <td>179.0</td>\n",
       "    </tr>\n",
       "    <tr>\n",
       "      <th>...</th>\n",
       "      <td>...</td>\n",
       "      <td>...</td>\n",
       "      <td>...</td>\n",
       "      <td>...</td>\n",
       "      <td>...</td>\n",
       "      <td>...</td>\n",
       "      <td>...</td>\n",
       "    </tr>\n",
       "    <tr>\n",
       "      <th>19945</th>\n",
       "      <td>4.0</td>\n",
       "      <td>081e7bb3832ec5bb25276db161a96274.jpg</td>\n",
       "      <td>CONSTRUCTION_ROAD</td>\n",
       "      <td>1025.0</td>\n",
       "      <td>600.0</td>\n",
       "      <td>408.0</td>\n",
       "      <td>148.0</td>\n",
       "    </tr>\n",
       "    <tr>\n",
       "      <th>19946</th>\n",
       "      <td>2.0</td>\n",
       "      <td>1ff38a7af7f13b1201d17c6e1829373a.jpg</td>\n",
       "      <td>POTHOLES</td>\n",
       "      <td>657.0</td>\n",
       "      <td>418.0</td>\n",
       "      <td>364.0</td>\n",
       "      <td>282.0</td>\n",
       "    </tr>\n",
       "    <tr>\n",
       "      <th>19947</th>\n",
       "      <td>2.0</td>\n",
       "      <td>1ff38a7af7f13b1201d17c6e1829373a.jpg</td>\n",
       "      <td>POTHOLES</td>\n",
       "      <td>507.0</td>\n",
       "      <td>338.0</td>\n",
       "      <td>436.0</td>\n",
       "      <td>283.0</td>\n",
       "    </tr>\n",
       "    <tr>\n",
       "      <th>19948</th>\n",
       "      <td>7.0</td>\n",
       "      <td>ac97490f13140fc1bfe613ec69301b34.jpg</td>\n",
       "      <td>BAD_BILLBOARD</td>\n",
       "      <td>956.0</td>\n",
       "      <td>713.0</td>\n",
       "      <td>110.0</td>\n",
       "      <td>25.0</td>\n",
       "    </tr>\n",
       "    <tr>\n",
       "      <th>19949</th>\n",
       "      <td>7.0</td>\n",
       "      <td>ac97490f13140fc1bfe613ec69301b34.jpg</td>\n",
       "      <td>BAD_BILLBOARD</td>\n",
       "      <td>814.0</td>\n",
       "      <td>674.0</td>\n",
       "      <td>148.0</td>\n",
       "      <td>71.0</td>\n",
       "    </tr>\n",
       "  </tbody>\n",
       "</table>\n",
       "<p>19950 rows × 7 columns</p>\n",
       "</div>"
      ],
      "text/plain": [
       "       class                            image_path               name    xmax  \\\n",
       "0        3.0  4a48c42c9579ec0399e6c5a3e825e765.jpg            GARBAGE   797.0   \n",
       "1        3.0  4a48c42c9579ec0399e6c5a3e825e765.jpg            GARBAGE   932.0   \n",
       "2        3.0  4a48c42c9579ec0399e6c5a3e825e765.jpg            GARBAGE   736.0   \n",
       "3        7.0  ea906a663da6321bcef78be4b7d1afff.jpg      BAD_BILLBOARD   986.0   \n",
       "4        8.0  1c7d48005a12d1b19261b8e71df7cafe.jpg       SAND_ON_ROAD   667.0   \n",
       "...      ...                                   ...                ...     ...   \n",
       "19945    4.0  081e7bb3832ec5bb25276db161a96274.jpg  CONSTRUCTION_ROAD  1025.0   \n",
       "19946    2.0  1ff38a7af7f13b1201d17c6e1829373a.jpg           POTHOLES   657.0   \n",
       "19947    2.0  1ff38a7af7f13b1201d17c6e1829373a.jpg           POTHOLES   507.0   \n",
       "19948    7.0  ac97490f13140fc1bfe613ec69301b34.jpg      BAD_BILLBOARD   956.0   \n",
       "19949    7.0  ac97490f13140fc1bfe613ec69301b34.jpg      BAD_BILLBOARD   814.0   \n",
       "\n",
       "        xmin   ymax   ymin  \n",
       "0      701.0  262.0  211.0  \n",
       "1      786.0  329.0  238.0  \n",
       "2      657.0  275.0  229.0  \n",
       "3      786.0  136.0    0.0  \n",
       "4      549.0  228.0  179.0  \n",
       "...      ...    ...    ...  \n",
       "19945  600.0  408.0  148.0  \n",
       "19946  418.0  364.0  282.0  \n",
       "19947  338.0  436.0  283.0  \n",
       "19948  713.0  110.0   25.0  \n",
       "19949  674.0  148.0   71.0  \n",
       "\n",
       "[19950 rows x 7 columns]"
      ]
     },
     "execution_count": 68,
     "metadata": {},
     "output_type": "execute_result"
    }
   ],
   "source": [
    "df = pd.read_csv(f'{new_dataset_path}/train/train.csv')  \n",
    "df"
   ]
  },
  {
   "cell_type": "code",
   "execution_count": 69,
   "metadata": {},
   "outputs": [
    {
     "data": {
      "text/plain": [
       "3.0     8597\n",
       "4.0     2730\n",
       "2.0     2625\n",
       "9.0     2253\n",
       "7.0     1555\n",
       "0.0     1124\n",
       "8.0      748\n",
       "10.0     127\n",
       "1.0      107\n",
       "5.0       83\n",
       "6.0        1\n",
       "Name: class, dtype: int64"
      ]
     },
     "execution_count": 69,
     "metadata": {},
     "output_type": "execute_result"
    }
   ],
   "source": [
    "df[\"class\"].value_counts()"
   ]
  },
  {
   "cell_type": "code",
   "execution_count": 70,
   "metadata": {},
   "outputs": [
    {
     "data": {
      "text/html": [
       "<div>\n",
       "<style scoped>\n",
       "    .dataframe tbody tr th:only-of-type {\n",
       "        vertical-align: middle;\n",
       "    }\n",
       "\n",
       "    .dataframe tbody tr th {\n",
       "        vertical-align: top;\n",
       "    }\n",
       "\n",
       "    .dataframe thead th {\n",
       "        text-align: right;\n",
       "    }\n",
       "</style>\n",
       "<table border=\"1\" class=\"dataframe\">\n",
       "  <thead>\n",
       "    <tr style=\"text-align: right;\">\n",
       "      <th></th>\n",
       "      <th>class</th>\n",
       "      <th>image_path</th>\n",
       "      <th>name</th>\n",
       "      <th>xmax</th>\n",
       "      <th>xmin</th>\n",
       "      <th>ymax</th>\n",
       "      <th>ymin</th>\n",
       "    </tr>\n",
       "  </thead>\n",
       "  <tbody>\n",
       "    <tr>\n",
       "      <th>19353</th>\n",
       "      <td>6.0</td>\n",
       "      <td>53d3797457a0d2e3afe146e2f797e77e.jpg</td>\n",
       "      <td>BAD_STREETLIGHT</td>\n",
       "      <td>985.0</td>\n",
       "      <td>359.0</td>\n",
       "      <td>161.0</td>\n",
       "      <td>-47.0</td>\n",
       "    </tr>\n",
       "  </tbody>\n",
       "</table>\n",
       "</div>"
      ],
      "text/plain": [
       "       class                            image_path             name   xmax  \\\n",
       "19353    6.0  53d3797457a0d2e3afe146e2f797e77e.jpg  BAD_STREETLIGHT  985.0   \n",
       "\n",
       "        xmin   ymax  ymin  \n",
       "19353  359.0  161.0 -47.0  "
      ]
     },
     "execution_count": 70,
     "metadata": {},
     "output_type": "execute_result"
    }
   ],
   "source": [
    "df.loc[df['class'] == 6.0]"
   ]
  },
  {
   "cell_type": "code",
   "execution_count": 71,
   "metadata": {},
   "outputs": [
    {
     "data": {
      "text/plain": [
       "GARBAGE              8597\n",
       "CONSTRUCTION_ROAD    2730\n",
       "POTHOLES             2625\n",
       "CLUTTER_SIDEWALK     2253\n",
       "BAD_BILLBOARD        1555\n",
       "GRAFFITI             1124\n",
       "SAND_ON_ROAD          748\n",
       "UNKEPT_FACADE         127\n",
       "FADED_SIGNAGE         107\n",
       "BROKEN_SIGNAGE         83\n",
       "BAD_STREETLIGHT         1\n",
       "Name: name, dtype: int64"
      ]
     },
     "execution_count": 71,
     "metadata": {},
     "output_type": "execute_result"
    }
   ],
   "source": [
    "df[\"name\"].value_counts()"
   ]
  },
  {
   "cell_type": "code",
   "execution_count": 72,
   "metadata": {
    "scrolled": true
   },
   "outputs": [
    {
     "data": {
      "text/plain": [
       "291d3a6d38674da0e4b05135008bceb1.jpg    22\n",
       "8b3335738dc291770ffb3613810128f4.jpg    19\n",
       "fec90b848c9b6c4bcc1ec562597c55d8.jpg    19\n",
       "0a2bc0dc2371794509f4b776aff0dd88.jpg    19\n",
       "270c3a56f6a9abef21d61aec1eb53e88.jpg    19\n",
       "                                        ..\n",
       "1596246bbf778e2120656ca0eb5c2272.jpg     1\n",
       "1726f638d4df5e9140ee7a691d155220.jpg     1\n",
       "fcdf201c3cbe3543809d35eed38e2e40.jpg     1\n",
       "320c8cc65946b84f11348cfb24496fd8.jpg     1\n",
       "4688a6fd763942a56f0ae6510393a932.jpg     1\n",
       "Name: image_path, Length: 7874, dtype: int64"
      ]
     },
     "execution_count": 72,
     "metadata": {},
     "output_type": "execute_result"
    }
   ],
   "source": [
    "df[\"image_path\"].value_counts()"
   ]
  },
  {
   "cell_type": "code",
   "execution_count": 73,
   "metadata": {},
   "outputs": [],
   "source": [
    "def resize_bounding_box(x_min, y_min, x_max, y_max):\n",
    "    yolo_bbox = (abs(x_min*2), abs(y_min*2), abs(x_max*2), abs(y_max*2))\n",
    "    r = yolo_bbox\n",
    "    r = ' '.join(map(str,r))\n",
    "\n",
    "    return r"
   ]
  },
  {
   "cell_type": "code",
   "execution_count": 76,
   "metadata": {},
   "outputs": [],
   "source": [
    "i=0\n",
    "j=1\n",
    "os.makedirs(f\"{new_dataset_path}/batches/batch-{j}/labels/\")\n",
    "os.makedirs(f\"{new_dataset_path}/batches/batch-{j}/images/\")\n",
    "  \n",
    "for index, row in df.iterrows():\n",
    "    i = i+1\n",
    "    if(i < 2000):\n",
    "\n",
    "        with open(f'{new_dataset_path}/batches/batch-{j}/labels/{row[\"image_path\"]}.txt',\"a\") as file:\n",
    "            file.write(str(row[\"name\"])+\" \"+ resize_bounding_box(row[\"xmin\"], row[\"ymin\"], row[\"xmax\"], row[\"ymax\"]) + \" \\n\")\n",
    "        shutil.copy(f'{old_dataset_path}/images/{row[\"image_path\"]}', f\"{new_dataset_path}/batches/batch-{j}/images/\") \n",
    "    else:\n",
    "        i=0\n",
    "        j= j+1\n",
    "        os.makedirs(f\"{new_dataset_path}/batches/batch-{j}/labels/\")\n",
    "        os.makedirs(f\"{new_dataset_path}/batches/batch-{j}/images/\")\n",
    "      "
   ]
  },
  {
   "cell_type": "raw",
   "metadata": {},
   "source": [
    "resize bounding box code from smartathon team\n",
    "\n",
    "import cv2\n",
    "\n",
    "def plot_one_box(x, img, color=None, label=None, line_thickness=None, Inverted=False):\n",
    "    # Plots one bounding box on image img\n",
    "    tl = line_thickness or 2 # line thickness\n",
    "    c1, c2 = (int(x[0]), int(x[1])), (int(x[2]), int(x[3]))\n",
    "    print(c1)\n",
    "    print(c2)\n",
    "    cv2.rectangle(img, c1, c2, color, thickness=tl)\n",
    "    if label:\n",
    "        tf = tl # font thickness\n",
    "        t_size = cv2.getTextSize(label, 0, fontScale=tl / 2, thickness=tf)[0]\n",
    "    if Inverted == True:\n",
    "        c1 = c2\n",
    "        c2 = c1[0] + t_size[0], c1[1] - t_size[1] - 3\n",
    "    else:\n",
    "        c2 = c1[0] + t_size[0], c1[1] - t_size[1] - 3\n",
    "        cv2.rectangle(img, c1, c2, color, -1) # filled\n",
    "        cv2.putText(\n",
    "        img,\n",
    "        label,\n",
    "        (c1[0], c1[1] - 2),\n",
    "        0,\n",
    "        tl / 2,\n",
    "        [225, 255, 255],\n",
    "        thickness=tf,\n",
    "        lineType=cv2.LINE_AA,\n",
    "        )\n",
    "\n",
    "# Using readlines()\n",
    "file1 = open(f'{old_dataset_path}/train.csv', 'r')\n",
    "Lines = file1.readlines()\n",
    "\n",
    "count = 0\n",
    "# Strips the newline character\n",
    "for line in Lines:\n",
    "    if count == 0:\n",
    "        count += 1\n",
    "        continue\n",
    "    file_id_path = line.split(',')[1]\n",
    "    # open image in cv2\n",
    "    img = cv2.imread(f'{old_dataset_path}/images/' + file_id_path)\n",
    "    h, w, c = img.shape\n",
    "    cat = line.split(',')[2]\n",
    "    xmax = int(float(line.split(',')[3])) * 2\n",
    "    xmin = int(float(line.split(',')[4])) * 2\n",
    "    ymax = int(float(line.split(',')[5])) * 2\n",
    "    ymin = int(float(line.split(',')[6])) * 2\n",
    "    # plot the box\n",
    "    plot_one_box([xmin, ymin, xmax, ymax], img, color=(0, 255, 0), label=cat, line_thickness=2)\n",
    "    # save the image\n",
    "    # you might need to create the folder \"drawn\" first!\n",
    "    cv2.imwrite(f'{old_dataset_path}/drawn/' + file_id_path, img)\n",
    "    print(\"Line {}: {}\".format(count, line.strip()))\n",
    "    count += 1\n",
    "    break"
   ]
  },
  {
   "cell_type": "code",
   "execution_count": null,
   "metadata": {},
   "outputs": [],
   "source": []
  }
 ],
 "metadata": {
  "kernelspec": {
   "display_name": "Python 3",
   "language": "python",
   "name": "python3"
  },
  "language_info": {
   "codemirror_mode": {
    "name": "ipython",
    "version": 3
   },
   "file_extension": ".py",
   "mimetype": "text/x-python",
   "name": "python",
   "nbconvert_exporter": "python",
   "pygments_lexer": "ipython3",
   "version": "3.9.10 (tags/v3.9.10:f2f3f53, Jan 17 2022, 15:14:21) [MSC v.1929 64 bit (AMD64)]"
  },
  "vscode": {
   "interpreter": {
    "hash": "6fff98fc3b3d81bd655c2cc48858186e4d9e2db7b515bf1c3221888f12a62f87"
   }
  }
 },
 "nbformat": 4,
 "nbformat_minor": 4
}
