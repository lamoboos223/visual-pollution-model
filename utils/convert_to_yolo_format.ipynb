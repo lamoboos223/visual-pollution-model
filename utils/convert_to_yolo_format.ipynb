{
 "cells": [
  {
   "cell_type": "code",
   "execution_count": 1,
   "metadata": {},
   "outputs": [
    {
     "name": "stderr",
     "output_type": "stream",
     "text": [
      "/Applications/anaconda3/lib/python3.8/site-packages/pandas/core/computation/expressions.py:20: UserWarning: Pandas requires version '2.7.3' or newer of 'numexpr' (version '2.7.1' currently installed).\n",
      "  from pandas.core.computation.check import NUMEXPR_INSTALLED\n"
     ]
    },
    {
     "data": {
      "text/html": [
       "<div>\n",
       "<style scoped>\n",
       "    .dataframe tbody tr th:only-of-type {\n",
       "        vertical-align: middle;\n",
       "    }\n",
       "\n",
       "    .dataframe tbody tr th {\n",
       "        vertical-align: top;\n",
       "    }\n",
       "\n",
       "    .dataframe thead th {\n",
       "        text-align: right;\n",
       "    }\n",
       "</style>\n",
       "<table border=\"1\" class=\"dataframe\">\n",
       "  <thead>\n",
       "    <tr style=\"text-align: right;\">\n",
       "      <th></th>\n",
       "      <th>class</th>\n",
       "      <th>image_path</th>\n",
       "      <th>name</th>\n",
       "      <th>xmax</th>\n",
       "      <th>xmin</th>\n",
       "      <th>ymax</th>\n",
       "      <th>ymin</th>\n",
       "    </tr>\n",
       "  </thead>\n",
       "  <tbody>\n",
       "    <tr>\n",
       "      <th>0</th>\n",
       "      <td>3.0</td>\n",
       "      <td>4a48c42c9579ec0399e6c5a3e825e765.jpg</td>\n",
       "      <td>GARBAGE</td>\n",
       "      <td>797.0</td>\n",
       "      <td>701.0</td>\n",
       "      <td>262.0</td>\n",
       "      <td>211.0</td>\n",
       "    </tr>\n",
       "    <tr>\n",
       "      <th>1</th>\n",
       "      <td>3.0</td>\n",
       "      <td>4a48c42c9579ec0399e6c5a3e825e765.jpg</td>\n",
       "      <td>GARBAGE</td>\n",
       "      <td>932.0</td>\n",
       "      <td>786.0</td>\n",
       "      <td>329.0</td>\n",
       "      <td>238.0</td>\n",
       "    </tr>\n",
       "    <tr>\n",
       "      <th>2</th>\n",
       "      <td>3.0</td>\n",
       "      <td>4a48c42c9579ec0399e6c5a3e825e765.jpg</td>\n",
       "      <td>GARBAGE</td>\n",
       "      <td>736.0</td>\n",
       "      <td>657.0</td>\n",
       "      <td>275.0</td>\n",
       "      <td>229.0</td>\n",
       "    </tr>\n",
       "    <tr>\n",
       "      <th>3</th>\n",
       "      <td>7.0</td>\n",
       "      <td>ea906a663da6321bcef78be4b7d1afff.jpg</td>\n",
       "      <td>BAD_BILLBOARD</td>\n",
       "      <td>986.0</td>\n",
       "      <td>786.0</td>\n",
       "      <td>136.0</td>\n",
       "      <td>0.0</td>\n",
       "    </tr>\n",
       "    <tr>\n",
       "      <th>4</th>\n",
       "      <td>8.0</td>\n",
       "      <td>1c7d48005a12d1b19261b8e71df7cafe.jpg</td>\n",
       "      <td>SAND_ON_ROAD</td>\n",
       "      <td>667.0</td>\n",
       "      <td>549.0</td>\n",
       "      <td>228.0</td>\n",
       "      <td>179.0</td>\n",
       "    </tr>\n",
       "    <tr>\n",
       "      <th>...</th>\n",
       "      <td>...</td>\n",
       "      <td>...</td>\n",
       "      <td>...</td>\n",
       "      <td>...</td>\n",
       "      <td>...</td>\n",
       "      <td>...</td>\n",
       "      <td>...</td>\n",
       "    </tr>\n",
       "    <tr>\n",
       "      <th>19945</th>\n",
       "      <td>4.0</td>\n",
       "      <td>081e7bb3832ec5bb25276db161a96274.jpg</td>\n",
       "      <td>CONSTRUCTION_ROAD</td>\n",
       "      <td>1025.0</td>\n",
       "      <td>600.0</td>\n",
       "      <td>408.0</td>\n",
       "      <td>148.0</td>\n",
       "    </tr>\n",
       "    <tr>\n",
       "      <th>19946</th>\n",
       "      <td>2.0</td>\n",
       "      <td>1ff38a7af7f13b1201d17c6e1829373a.jpg</td>\n",
       "      <td>POTHOLES</td>\n",
       "      <td>657.0</td>\n",
       "      <td>418.0</td>\n",
       "      <td>364.0</td>\n",
       "      <td>282.0</td>\n",
       "    </tr>\n",
       "    <tr>\n",
       "      <th>19947</th>\n",
       "      <td>2.0</td>\n",
       "      <td>1ff38a7af7f13b1201d17c6e1829373a.jpg</td>\n",
       "      <td>POTHOLES</td>\n",
       "      <td>507.0</td>\n",
       "      <td>338.0</td>\n",
       "      <td>436.0</td>\n",
       "      <td>283.0</td>\n",
       "    </tr>\n",
       "    <tr>\n",
       "      <th>19948</th>\n",
       "      <td>7.0</td>\n",
       "      <td>ac97490f13140fc1bfe613ec69301b34.jpg</td>\n",
       "      <td>BAD_BILLBOARD</td>\n",
       "      <td>956.0</td>\n",
       "      <td>713.0</td>\n",
       "      <td>110.0</td>\n",
       "      <td>25.0</td>\n",
       "    </tr>\n",
       "    <tr>\n",
       "      <th>19949</th>\n",
       "      <td>7.0</td>\n",
       "      <td>ac97490f13140fc1bfe613ec69301b34.jpg</td>\n",
       "      <td>BAD_BILLBOARD</td>\n",
       "      <td>814.0</td>\n",
       "      <td>674.0</td>\n",
       "      <td>148.0</td>\n",
       "      <td>71.0</td>\n",
       "    </tr>\n",
       "  </tbody>\n",
       "</table>\n",
       "<p>19950 rows × 7 columns</p>\n",
       "</div>"
      ],
      "text/plain": [
       "       class                            image_path               name    xmax  \\\n",
       "0        3.0  4a48c42c9579ec0399e6c5a3e825e765.jpg            GARBAGE   797.0   \n",
       "1        3.0  4a48c42c9579ec0399e6c5a3e825e765.jpg            GARBAGE   932.0   \n",
       "2        3.0  4a48c42c9579ec0399e6c5a3e825e765.jpg            GARBAGE   736.0   \n",
       "3        7.0  ea906a663da6321bcef78be4b7d1afff.jpg      BAD_BILLBOARD   986.0   \n",
       "4        8.0  1c7d48005a12d1b19261b8e71df7cafe.jpg       SAND_ON_ROAD   667.0   \n",
       "...      ...                                   ...                ...     ...   \n",
       "19945    4.0  081e7bb3832ec5bb25276db161a96274.jpg  CONSTRUCTION_ROAD  1025.0   \n",
       "19946    2.0  1ff38a7af7f13b1201d17c6e1829373a.jpg           POTHOLES   657.0   \n",
       "19947    2.0  1ff38a7af7f13b1201d17c6e1829373a.jpg           POTHOLES   507.0   \n",
       "19948    7.0  ac97490f13140fc1bfe613ec69301b34.jpg      BAD_BILLBOARD   956.0   \n",
       "19949    7.0  ac97490f13140fc1bfe613ec69301b34.jpg      BAD_BILLBOARD   814.0   \n",
       "\n",
       "        xmin   ymax   ymin  \n",
       "0      701.0  262.0  211.0  \n",
       "1      786.0  329.0  238.0  \n",
       "2      657.0  275.0  229.0  \n",
       "3      786.0  136.0    0.0  \n",
       "4      549.0  228.0  179.0  \n",
       "...      ...    ...    ...  \n",
       "19945  600.0  408.0  148.0  \n",
       "19946  418.0  364.0  282.0  \n",
       "19947  338.0  436.0  283.0  \n",
       "19948  713.0  110.0   25.0  \n",
       "19949  674.0  148.0   71.0  \n",
       "\n",
       "[19950 rows x 7 columns]"
      ]
     },
     "execution_count": 1,
     "metadata": {},
     "output_type": "execute_result"
    }
   ],
   "source": [
    "import pandas as pd\n",
    "df = pd.read_csv('dataset/train.csv')  \n",
    "df"
   ]
  },
  {
   "cell_type": "code",
   "execution_count": 3,
   "metadata": {},
   "outputs": [
    {
     "data": {
      "text/plain": [
       "3.0     8597\n",
       "4.0     2730\n",
       "2.0     2625\n",
       "9.0     2253\n",
       "7.0     1555\n",
       "0.0     1124\n",
       "8.0      748\n",
       "10.0     127\n",
       "1.0      107\n",
       "5.0       83\n",
       "6.0        1\n",
       "Name: class, dtype: int64"
      ]
     },
     "execution_count": 3,
     "metadata": {},
     "output_type": "execute_result"
    }
   ],
   "source": [
    "df[\"class\"].value_counts()"
   ]
  },
  {
   "cell_type": "code",
   "execution_count": 4,
   "metadata": {},
   "outputs": [
    {
     "data": {
      "text/html": [
       "<div>\n",
       "<style scoped>\n",
       "    .dataframe tbody tr th:only-of-type {\n",
       "        vertical-align: middle;\n",
       "    }\n",
       "\n",
       "    .dataframe tbody tr th {\n",
       "        vertical-align: top;\n",
       "    }\n",
       "\n",
       "    .dataframe thead th {\n",
       "        text-align: right;\n",
       "    }\n",
       "</style>\n",
       "<table border=\"1\" class=\"dataframe\">\n",
       "  <thead>\n",
       "    <tr style=\"text-align: right;\">\n",
       "      <th></th>\n",
       "      <th>class</th>\n",
       "      <th>image_path</th>\n",
       "      <th>name</th>\n",
       "      <th>xmax</th>\n",
       "      <th>xmin</th>\n",
       "      <th>ymax</th>\n",
       "      <th>ymin</th>\n",
       "    </tr>\n",
       "  </thead>\n",
       "  <tbody>\n",
       "    <tr>\n",
       "      <th>19353</th>\n",
       "      <td>6.0</td>\n",
       "      <td>53d3797457a0d2e3afe146e2f797e77e.jpg</td>\n",
       "      <td>BAD_STREETLIGHT</td>\n",
       "      <td>985.0</td>\n",
       "      <td>359.0</td>\n",
       "      <td>161.0</td>\n",
       "      <td>-47.0</td>\n",
       "    </tr>\n",
       "  </tbody>\n",
       "</table>\n",
       "</div>"
      ],
      "text/plain": [
       "       class                            image_path             name   xmax  \\\n",
       "19353    6.0  53d3797457a0d2e3afe146e2f797e77e.jpg  BAD_STREETLIGHT  985.0   \n",
       "\n",
       "        xmin   ymax  ymin  \n",
       "19353  359.0  161.0 -47.0  "
      ]
     },
     "execution_count": 4,
     "metadata": {},
     "output_type": "execute_result"
    }
   ],
   "source": [
    "df.loc[df['class'] == 6.0]"
   ]
  },
  {
   "cell_type": "code",
   "execution_count": 5,
   "metadata": {},
   "outputs": [
    {
     "data": {
      "text/plain": [
       "GARBAGE              8597\n",
       "CONSTRUCTION_ROAD    2730\n",
       "POTHOLES             2625\n",
       "CLUTTER_SIDEWALK     2253\n",
       "BAD_BILLBOARD        1555\n",
       "GRAFFITI             1124\n",
       "SAND_ON_ROAD          748\n",
       "UNKEPT_FACADE         127\n",
       "FADED_SIGNAGE         107\n",
       "BROKEN_SIGNAGE         83\n",
       "BAD_STREETLIGHT         1\n",
       "Name: name, dtype: int64"
      ]
     },
     "execution_count": 5,
     "metadata": {},
     "output_type": "execute_result"
    }
   ],
   "source": [
    "df[\"name\"].value_counts()"
   ]
  },
  {
   "cell_type": "code",
   "execution_count": 6,
   "metadata": {},
   "outputs": [
    {
     "data": {
      "text/plain": [
       "291d3a6d38674da0e4b05135008bceb1.jpg    22\n",
       "8b3335738dc291770ffb3613810128f4.jpg    19\n",
       "fec90b848c9b6c4bcc1ec562597c55d8.jpg    19\n",
       "0a2bc0dc2371794509f4b776aff0dd88.jpg    19\n",
       "270c3a56f6a9abef21d61aec1eb53e88.jpg    19\n",
       "                                        ..\n",
       "1596246bbf778e2120656ca0eb5c2272.jpg     1\n",
       "1726f638d4df5e9140ee7a691d155220.jpg     1\n",
       "fcdf201c3cbe3543809d35eed38e2e40.jpg     1\n",
       "320c8cc65946b84f11348cfb24496fd8.jpg     1\n",
       "4688a6fd763942a56f0ae6510393a932.jpg     1\n",
       "Name: image_path, Length: 7874, dtype: int64"
      ]
     },
     "execution_count": 6,
     "metadata": {},
     "output_type": "execute_result"
    }
   ],
   "source": [
    "df[\"image_path\"].value_counts()"
   ]
  },
  {
   "cell_type": "code",
   "execution_count": 7,
   "metadata": {},
   "outputs": [],
   "source": [
    "import pybboxes as pbx\n",
    "\n",
    "W, H = 1920, 1080  # WxH of the image\n",
    "def convert_to_yolo_format(x_min, y_min, x_max, y_max):\n",
    "    yolo_bbox = (x_min, y_min, x_max, y_max)\n",
    "    r = pbx.convert_bbox(yolo_bbox, from_type=\"coco\", to_type=\"yolo\", image_size=(W, H))\n",
    "    r = ' '.join(map(str,r))\n",
    "\n",
    "    return r"
   ]
  },
  {
   "cell_type": "code",
   "execution_count": 8,
   "metadata": {},
   "outputs": [],
   "source": [
    "for index, row in df.iterrows():\n",
    "    with open(f'annotation/{row[\"image_path\"]}.txt',\"a\") as file:\n",
    "        file.write(str(row[\"class\"])+\" \"+ convert_to_yolo_format(row[\"xmin\"], row[\"ymin\"], row[\"xmax\"], row[\"ymax\"]) + \" \\n\")"
   ]
  },
  {
   "cell_type": "code",
   "execution_count": 9,
   "metadata": {},
   "outputs": [
    {
     "name": "stdout",
     "output_type": "stream",
     "text": [
      "9.0 0.07708333333333334 0.30185185185185187 0.19166666666666668 0.2740740740740741 \n",
      "9.0 0.2794270833333333 0.30416666666666664 0.32447916666666665 0.275 \n",
      "9.0 0.48880208333333336 0.32546296296296295 0.48072916666666665 0.2953703703703704 \n",
      "3.0 0.7041666666666667 0.21712962962962962 0.4979166666666667 0.1675925925925926 \n",
      "3.0 0.72578125 0.25925925925925924 0.5057291666666667 0.2 \n",
      "3.0 0.6317708333333333 0.2273148148148148 0.45729166666666665 0.18981481481481483 \n",
      "3.0 0.5791666666666667 0.2064814814814815 0.4322916666666667 0.17962962962962964 \n",
      "3.0 0.47291666666666665 0.24305555555555555 0.36354166666666665 0.1935185185185185 \n",
      "3.0 0.4171875 0.19675925925925927 0.3 0.16203703703703703 \n",
      "3.0 0.453125 0.18425925925925926 0.33645833333333336 0.1574074074074074 \n",
      "3.0 0.3880208333333333 0.18101851851851852 0.2875 0.16203703703703703 \n",
      "3.0 0.4046875 0.23425925925925925 0.32083333333333336 0.1962962962962963 \n",
      "3.0 0.3625 0.23981481481481481 0.2760416666666667 0.18888888888888888 \n",
      "3.0 0.3033854166666667 0.18333333333333332 0.24114583333333334 0.1574074074074074 \n",
      "3.0 0.29348958333333336 0.2375 0.23177083333333334 0.18981481481481483 \n",
      "3.0 0.24635416666666668 0.1675925925925926 0.196875 0.15 \n",
      "3.0 0.184375 0.1824074074074074 0.16458333333333333 0.1537037037037037 \n",
      "3.0 0.12760416666666666 0.16944444444444445 0.115625 0.1425925925925926 \n",
      "3.0 0.09479166666666666 0.16944444444444445 0.08645833333333333 0.13703703703703704 \n",
      "3.0 0.04609375 0.16435185185185186 0.07552083333333333 0.14722222222222223 \n",
      "3.0 0.11328125 0.2388888888888889 0.10989583333333333 0.1925925925925926 \n",
      "3.0 0.0921875 0.22037037037037038 0.08958333333333333 0.16666666666666666 \n",
      "\n"
     ]
    }
   ],
   "source": [
    "with open('annotation/291d3a6d38674da0e4b05135008bceb1.jpg.txt') as f:\n",
    "    contents = f.read()\n",
    "    print(contents)"
   ]
  },
  {
   "cell_type": "code",
   "execution_count": 10,
   "metadata": {},
   "outputs": [
    {
     "name": "stdout",
     "output_type": "stream",
     "text": [
      "6.0 0.4434895833333333 0.031018518518518518 0.5130208333333334 0.14907407407407408 \n",
      "\n"
     ]
    }
   ],
   "source": [
    "with open('annotation/53d3797457a0d2e3afe146e2f797e77e.jpg.txt') as f:\n",
    "    contents = f.read()\n",
    "    print(contents)"
   ]
  },
  {
   "cell_type": "code",
   "execution_count": null,
   "metadata": {},
   "outputs": [],
   "source": []
  }
 ],
 "metadata": {
  "kernelspec": {
   "display_name": "Python 3",
   "language": "python",
   "name": "python3"
  },
  "language_info": {
   "codemirror_mode": {
    "name": "ipython",
    "version": 3
   },
   "file_extension": ".py",
   "mimetype": "text/x-python",
   "name": "python",
   "nbconvert_exporter": "python",
   "pygments_lexer": "ipython3",
   "version": "3.8.5"
  }
 },
 "nbformat": 4,
 "nbformat_minor": 4
}
